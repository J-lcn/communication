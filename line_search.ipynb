{
 "cells": [
  {
   "cell_type": "code",
   "execution_count": 1,
   "id": "36b662a5",
   "metadata": {},
   "outputs": [],
   "source": [
    "import numpy as np"
   ]
  },
  {
   "cell_type": "code",
   "execution_count": 2,
   "id": "a7f175d6",
   "metadata": {},
   "outputs": [],
   "source": [
    "def armijo(x, d, grad, obj_values, obj_fun_eval):\n",
    "    alpha, beta, pho = 10, 0.1, 0.8\n",
    "    for _ in range(100):\n",
    "        if obj_fun_eval(x + alpha*d) <= obj_values + alpha * pho * np.dot(grad.T, d):\n",
    "            return alpha\n",
    "        alpha *= beta\n",
    "    return False\n",
    "\n",
    "def exact(x, d, obj_fun_eval):\n",
    "    alpha = np.linspace(10, 0.001, 100)\n",
    "    index = np.argmin([obj_fun_eval(x + a*d) for a in alpha])\n",
    "    return alpha[index]\n",
    "\n",
    "def constant():\n",
    "    return 1.0\n",
    "     "
   ]
  },
  {
   "cell_type": "code",
   "execution_count": null,
   "id": "73423c49",
   "metadata": {},
   "outputs": [],
   "source": []
  }
 ],
 "metadata": {
  "kernelspec": {
   "display_name": "TF2.1",
   "language": "python",
   "name": "tf2.1"
  },
  "language_info": {
   "codemirror_mode": {
    "name": "ipython",
    "version": 3
   },
   "file_extension": ".py",
   "mimetype": "text/x-python",
   "name": "python",
   "nbconvert_exporter": "python",
   "pygments_lexer": "ipython3",
   "version": "3.7.15"
  }
 },
 "nbformat": 4,
 "nbformat_minor": 5
}
