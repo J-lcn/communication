{
 "cells": [
  {
   "cell_type": "code",
   "execution_count": 1,
   "id": "0c1938ce",
   "metadata": {},
   "outputs": [],
   "source": [
    "import sympy\n",
    "import numpy as np"
   ]
  },
  {
   "cell_type": "code",
   "execution_count": 6,
   "id": "2768ec1a",
   "metadata": {},
   "outputs": [],
   "source": [
    "class Model:\n",
    "    def __init__(self, dim:int) -> None:\n",
    "        assert(dim > 0 and type(dim) == int)\n",
    "        self.dim = dim\n",
    "        self.x = self.add_vars(self.dim)\n",
    "        self.obj_func_dict = {\"quad_fun\": self.__quad_fun, \"quad_fun1\": self.__quad_fun1, \"quad_fun2\": self.__quad_fun2,\"quad_fun3\":self.__quad_fun3}\n",
    "    \n",
    "    def set_objective(self, name):\n",
    "        self.obj_func = self.obj_func_dict.get(name, self.__none_fun)()\n",
    "    \n",
    "    def add_vars(self, dim):\n",
    "        return [sympy.Symbol('x_{}'.format(i)) for i in range(dim)]\n",
    "    \n",
    "    \n",
    "    def __quad_fun(self):\n",
    "        s = 0\n",
    "        for i in range(self.dim):\n",
    "            s += self.x[i]**2\n",
    "        return s\n",
    "    \n",
    "    def __quad_fun1(self):\n",
    "        s = 0\n",
    "        for i in range(self.dim):\n",
    "            s += (2*i+1)*self.x[i]**2\n",
    "        return s\n",
    "    \n",
    "    def __quad_fun2(self):\n",
    "        s = self.x[-1]**2\n",
    "        for i in range(self.dim - 1):\n",
    "            s += (self.x[i] - 10 * sympy.cos((self.x[i+1])**2))\n",
    "        return s\n",
    "    \n",
    "    def __quad_fun3(self):\n",
    "        s=sympy.exp(self.x[0]-10)*sympy.cos(self.x[0])\n",
    "        return s\n",
    "    \n",
    "    def __none_fun(self):\n",
    "        print(\"cannont find function\")\n",
    "\n",
    "    def obj_fun_eval(self, x:list):\n",
    "        assert(len(x) == self.dim), print(\" dimension is error \")\n",
    "        s = dict(list(zip(self.x, x)))\n",
    "        return self.obj_func.evalf(subs = s)\n",
    "    \n",
    "    def diff(self):\n",
    "        self.diff_obj = [sympy.diff(self.obj_func, self.x[i], 1) for i in range(self.dim)]\n",
    "        # print(self.diff_obj)\n",
    "    \n",
    "    def diff_eval(self, x:list):\n",
    "        s = dict(list(zip(self.x, x)))\n",
    "        grad = np.array([self.diff_obj[i].subs(s) for i in range(self.dim)])\n",
    "        grad = grad.astype('float')\n",
    "        return grad\n",
    "    \n",
    "    def diff_second(self):\n",
    "        self.hessian_obj = [[sympy.diff(self.diff_obj[i], self.x[j], 1) for i in range(self.dim)] for j in range(self.dim)]\n",
    "    \n",
    "    def diff_second_eval(self, x:list):\n",
    "        s = dict(list(zip(self.x, x)))\n",
    "        hessian = np.array([self.hessian_obj[i][j].subs(s) for i in range(self.dim) for j in range(self.dim)]).reshape((self.dim, self.dim))\n",
    "        hessian = hessian.astype('float')\n",
    "        return hessian\n"
   ]
  },
  {
   "cell_type": "code",
   "execution_count": 5,
   "id": "6ed34664",
   "metadata": {},
   "outputs": [
    {
     "name": "stdout",
     "output_type": "stream",
     "text": [
      "x:  [2]\n",
      "obj function value:  -1240.51623618735\n",
      "first order value:  [-1470.06119091]\n",
      "second order value:  [[5421.15485419]]\n"
     ]
    }
   ],
   "source": [
    "if __name__ == \"__main__\":\n",
    "    dim = 1\n",
    "    model = Model(dim = dim)\n",
    "    x = [2 for i in range(dim)]\n",
    "    print(\"x: \", x)\n",
    "    model.set_objective(\"quad_fun3\")\n",
    "    print(\"obj function value: \", model.obj_fun_eval(x))\n",
    "    model.diff()\n",
    "    print(\"first order value: \", model.diff_eval(x))\n",
    "    model.diff_second()\n",
    "    print(\"second order value: \", model.diff_second_eval(x))"
   ]
  },
  {
   "cell_type": "code",
   "execution_count": null,
   "id": "0711944f",
   "metadata": {},
   "outputs": [],
   "source": []
  }
 ],
 "metadata": {
  "kernelspec": {
   "display_name": "TF2.1",
   "language": "python",
   "name": "tf2.1"
  },
  "language_info": {
   "codemirror_mode": {
    "name": "ipython",
    "version": 3
   },
   "file_extension": ".py",
   "mimetype": "text/x-python",
   "name": "python",
   "nbconvert_exporter": "python",
   "pygments_lexer": "ipython3",
   "version": "3.7.15"
  }
 },
 "nbformat": 4,
 "nbformat_minor": 5
}
